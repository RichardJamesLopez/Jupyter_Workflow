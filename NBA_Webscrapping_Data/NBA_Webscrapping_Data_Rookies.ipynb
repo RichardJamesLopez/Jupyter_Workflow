{
 "cells": [
  {
   "cell_type": "code",
   "execution_count": 1,
   "metadata": {
    "collapsed": true
   },
   "outputs": [],
   "source": [
    "from urllib.request import urlopen\n",
    "from bs4 import BeautifulSoup\n",
    "import pandas as pd"
   ]
  },
  {
   "cell_type": "code",
   "execution_count": 2,
   "metadata": {
    "collapsed": true
   },
   "outputs": [],
   "source": [
    "# url that we are scraping\n",
    "url = \"http://www.basketball-reference.com/draft/NBA_2014.html\"\n",
    "\n",
    "# this is the html from the given url\n",
    "html = urlopen(url)"
   ]
  },
  {
   "cell_type": "code",
   "execution_count": 3,
   "metadata": {
    "collapsed": true
   },
   "outputs": [],
   "source": [
    "soup = BeautifulSoup(html, \"lxml\")"
   ]
  },
  {
   "cell_type": "code",
   "execution_count": 4,
   "metadata": {},
   "outputs": [
    {
     "data": {
      "text/plain": [
       "bs4.BeautifulSoup"
      ]
     },
     "execution_count": 4,
     "metadata": {},
     "output_type": "execute_result"
    }
   ],
   "source": [
    "type(soup)"
   ]
  },
  {
   "cell_type": "code",
   "execution_count": 5,
   "metadata": {},
   "outputs": [
    {
     "data": {
      "text/plain": [
       "['Rk',\n",
       " 'Pk',\n",
       " 'Tm',\n",
       " 'Player',\n",
       " 'College',\n",
       " 'Yrs',\n",
       " 'G',\n",
       " 'MP',\n",
       " 'PTS',\n",
       " 'TRB',\n",
       " 'AST',\n",
       " 'FG%',\n",
       " '3P%',\n",
       " 'FT%',\n",
       " 'MP',\n",
       " 'PTS',\n",
       " 'TRB',\n",
       " 'AST',\n",
       " 'WS',\n",
       " 'WS/48',\n",
       " 'BPM',\n",
       " 'VORP']"
      ]
     },
     "execution_count": 5,
     "metadata": {},
     "output_type": "execute_result"
    }
   ],
   "source": [
    "column_headers = [th.getText() for th in \n",
    "                  soup.findAll('tr', limit=2)[1].findAll('th')]\n",
    "\n",
    "column_headers # our column headers"
   ]
  },
  {
   "cell_type": "code",
   "execution_count": 6,
   "metadata": {},
   "outputs": [
    {
     "data": {
      "text/plain": [
       "list"
      ]
     },
     "execution_count": 6,
     "metadata": {},
     "output_type": "execute_result"
    }
   ],
   "source": [
    "data_rows = soup.findAll('tr')[2:] # skip the first 2 header rows\n",
    "type(data_rows) # now we have a list of table rows"
   ]
  },
  {
   "cell_type": "markdown",
   "metadata": {},
   "source": [
    "The difference between extracting the play data and extracting the column headers is that the player data is in a 2-dimensional format (or a matrix), so we have to construct a 2-dimenstional list. We can do this using a nested list comprehense"
   ]
  },
  {
   "cell_type": "code",
   "execution_count": 7,
   "metadata": {
    "collapsed": true
   },
   "outputs": [],
   "source": [
    "player_data = [[td.getText() for td in data_rows[i].findAll(['td','th'])]\n",
    "               for i in range(len(data_rows))]"
   ]
  },
  {
   "cell_type": "code",
   "execution_count": 8,
   "metadata": {
    "collapsed": true
   },
   "outputs": [],
   "source": [
    "player_data_02 = [] # create an empty list to hold all the data\n",
    "\n",
    "for i in range(len(data_rows)): # for each table row\n",
    "    player_row = [] # create an emply list for each pick/player\n",
    "    \n",
    "    # for each table data element from each table row\n",
    "    for td in data_rows[i].findAll('td'):\n",
    "        # get the text content and append to the player_row\n",
    "        player_row.append(td.getText())\n",
    "        \n",
    "    # then append each pick/player to the player_data matrix\n",
    "    player_data_02.append(player_row)"
   ]
  },
  {
   "cell_type": "code",
   "execution_count": 9,
   "metadata": {},
   "outputs": [
    {
     "data": {
      "text/plain": [
       "False"
      ]
     },
     "execution_count": 9,
     "metadata": {},
     "output_type": "execute_result"
    }
   ],
   "source": [
    "player_data == player_data_02"
   ]
  },
  {
   "cell_type": "code",
   "execution_count": 10,
   "metadata": {
    "collapsed": true
   },
   "outputs": [],
   "source": [
    "df = pd.DataFrame(player_data, columns=column_headers)\n",
    "\n"
   ]
  },
  {
   "cell_type": "code",
   "execution_count": 11,
   "metadata": {},
   "outputs": [
    {
     "data": {
      "text/html": [
       "<div>\n",
       "<style>\n",
       "    .dataframe thead tr:only-child th {\n",
       "        text-align: right;\n",
       "    }\n",
       "\n",
       "    .dataframe thead th {\n",
       "        text-align: left;\n",
       "    }\n",
       "\n",
       "    .dataframe tbody tr th {\n",
       "        vertical-align: top;\n",
       "    }\n",
       "</style>\n",
       "<table border=\"1\" class=\"dataframe\">\n",
       "  <thead>\n",
       "    <tr style=\"text-align: right;\">\n",
       "      <th></th>\n",
       "      <th>Rk</th>\n",
       "      <th>Pk</th>\n",
       "      <th>Tm</th>\n",
       "      <th>Player</th>\n",
       "      <th>College</th>\n",
       "      <th>Yrs</th>\n",
       "      <th>G</th>\n",
       "      <th>MP</th>\n",
       "      <th>PTS</th>\n",
       "      <th>TRB</th>\n",
       "      <th>...</th>\n",
       "      <th>3P%</th>\n",
       "      <th>FT%</th>\n",
       "      <th>MP</th>\n",
       "      <th>PTS</th>\n",
       "      <th>TRB</th>\n",
       "      <th>AST</th>\n",
       "      <th>WS</th>\n",
       "      <th>WS/48</th>\n",
       "      <th>BPM</th>\n",
       "      <th>VORP</th>\n",
       "    </tr>\n",
       "  </thead>\n",
       "  <tbody>\n",
       "    <tr>\n",
       "      <th>0</th>\n",
       "      <td>1</td>\n",
       "      <td>1</td>\n",
       "      <td>CLE</td>\n",
       "      <td>Andrew Wiggins</td>\n",
       "      <td>University of Kansas</td>\n",
       "      <td>4</td>\n",
       "      <td>250</td>\n",
       "      <td>9033</td>\n",
       "      <td>5097</td>\n",
       "      <td>1017</td>\n",
       "      <td>...</td>\n",
       "      <td>.331</td>\n",
       "      <td>.755</td>\n",
       "      <td>36.1</td>\n",
       "      <td>20.4</td>\n",
       "      <td>4.1</td>\n",
       "      <td>2.1</td>\n",
       "      <td>10.5</td>\n",
       "      <td>.056</td>\n",
       "      <td>-2.4</td>\n",
       "      <td>-0.8</td>\n",
       "    </tr>\n",
       "    <tr>\n",
       "      <th>1</th>\n",
       "      <td>2</td>\n",
       "      <td>2</td>\n",
       "      <td>MIL</td>\n",
       "      <td>Jabari Parker</td>\n",
       "      <td>Duke University</td>\n",
       "      <td>3</td>\n",
       "      <td>152</td>\n",
       "      <td>4874</td>\n",
       "      <td>2403</td>\n",
       "      <td>847</td>\n",
       "      <td>...</td>\n",
       "      <td>.341</td>\n",
       "      <td>.748</td>\n",
       "      <td>32.1</td>\n",
       "      <td>15.8</td>\n",
       "      <td>5.6</td>\n",
       "      <td>2.1</td>\n",
       "      <td>9.0</td>\n",
       "      <td>.088</td>\n",
       "      <td>-1.3</td>\n",
       "      <td>0.9</td>\n",
       "    </tr>\n",
       "    <tr>\n",
       "      <th>2</th>\n",
       "      <td>3</td>\n",
       "      <td>3</td>\n",
       "      <td>PHI</td>\n",
       "      <td>Joel Embiid</td>\n",
       "      <td>University of Kansas</td>\n",
       "      <td>2</td>\n",
       "      <td>35</td>\n",
       "      <td>894</td>\n",
       "      <td>707</td>\n",
       "      <td>285</td>\n",
       "      <td>...</td>\n",
       "      <td>.342</td>\n",
       "      <td>.792</td>\n",
       "      <td>25.5</td>\n",
       "      <td>20.2</td>\n",
       "      <td>8.1</td>\n",
       "      <td>2.1</td>\n",
       "      <td>2.1</td>\n",
       "      <td>.114</td>\n",
       "      <td>2.9</td>\n",
       "      <td>1.1</td>\n",
       "    </tr>\n",
       "    <tr>\n",
       "      <th>3</th>\n",
       "      <td>4</td>\n",
       "      <td>4</td>\n",
       "      <td>ORL</td>\n",
       "      <td>Aaron Gordon</td>\n",
       "      <td>University of Arizona</td>\n",
       "      <td>4</td>\n",
       "      <td>207</td>\n",
       "      <td>5029</td>\n",
       "      <td>2036</td>\n",
       "      <td>1104</td>\n",
       "      <td>...</td>\n",
       "      <td>.297</td>\n",
       "      <td>.702</td>\n",
       "      <td>24.3</td>\n",
       "      <td>9.8</td>\n",
       "      <td>5.3</td>\n",
       "      <td>1.5</td>\n",
       "      <td>10.6</td>\n",
       "      <td>.101</td>\n",
       "      <td>0.0</td>\n",
       "      <td>2.6</td>\n",
       "    </tr>\n",
       "    <tr>\n",
       "      <th>4</th>\n",
       "      <td>5</td>\n",
       "      <td>5</td>\n",
       "      <td>UTA</td>\n",
       "      <td>Dante Exum</td>\n",
       "      <td></td>\n",
       "      <td>2</td>\n",
       "      <td>148</td>\n",
       "      <td>3045</td>\n",
       "      <td>805</td>\n",
       "      <td>263</td>\n",
       "      <td>...</td>\n",
       "      <td>.308</td>\n",
       "      <td>.743</td>\n",
       "      <td>20.6</td>\n",
       "      <td>5.4</td>\n",
       "      <td>1.8</td>\n",
       "      <td>2.1</td>\n",
       "      <td>1.1</td>\n",
       "      <td>.017</td>\n",
       "      <td>-3.3</td>\n",
       "      <td>-1.0</td>\n",
       "    </tr>\n",
       "  </tbody>\n",
       "</table>\n",
       "<p>5 rows × 22 columns</p>\n",
       "</div>"
      ],
      "text/plain": [
       "  Rk Pk   Tm          Player                College Yrs    G    MP   PTS  \\\n",
       "0  1  1  CLE  Andrew Wiggins   University of Kansas   4  250  9033  5097   \n",
       "1  2  2  MIL   Jabari Parker        Duke University   3  152  4874  2403   \n",
       "2  3  3  PHI     Joel Embiid   University of Kansas   2   35   894   707   \n",
       "3  4  4  ORL    Aaron Gordon  University of Arizona   4  207  5029  2036   \n",
       "4  5  5  UTA      Dante Exum                          2  148  3045   805   \n",
       "\n",
       "    TRB  ...    3P%   FT%    MP   PTS  TRB  AST    WS WS/48   BPM  VORP  \n",
       "0  1017  ...   .331  .755  36.1  20.4  4.1  2.1  10.5  .056  -2.4  -0.8  \n",
       "1   847  ...   .341  .748  32.1  15.8  5.6  2.1   9.0  .088  -1.3   0.9  \n",
       "2   285  ...   .342  .792  25.5  20.2  8.1  2.1   2.1  .114   2.9   1.1  \n",
       "3  1104  ...   .297  .702  24.3   9.8  5.3  1.5  10.6  .101   0.0   2.6  \n",
       "4   263  ...   .308  .743  20.6   5.4  1.8  2.1   1.1  .017  -3.3  -1.0  \n",
       "\n",
       "[5 rows x 22 columns]"
      ]
     },
     "execution_count": 11,
     "metadata": {},
     "output_type": "execute_result"
    }
   ],
   "source": [
    "df.head() # lets see the 1st 5 rows of our DataFrame by default"
   ]
  },
  {
   "cell_type": "code",
   "execution_count": null,
   "metadata": {
    "collapsed": true
   },
   "outputs": [],
   "source": []
  },
  {
   "cell_type": "code",
   "execution_count": null,
   "metadata": {
    "collapsed": true
   },
   "outputs": [],
   "source": []
  }
 ],
 "metadata": {
  "kernelspec": {
   "display_name": "Python 3",
   "language": "python",
   "name": "python3"
  },
  "language_info": {
   "codemirror_mode": {
    "name": "ipython",
    "version": 3
   },
   "file_extension": ".py",
   "mimetype": "text/x-python",
   "name": "python",
   "nbconvert_exporter": "python",
   "pygments_lexer": "ipython3",
   "version": "3.6.1"
  }
 },
 "nbformat": 4,
 "nbformat_minor": 2
}
